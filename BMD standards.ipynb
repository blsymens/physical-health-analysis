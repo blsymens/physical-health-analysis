{
 "cells": [
  {
   "cell_type": "markdown",
   "metadata": {},
   "source": [
    "## Physical health assessment 2018\n",
    "### Bavo Symens - 29-09-1992\n",
    "---\n",
    "\n",
    "### Resultaten fysieke testen\n",
    "#### Klinische studie: Hoge intensiteit training bij personen met lager rugpijn\n",
    "#### UHasselt\n",
    "\n",
    "\n"
   ]
  },
  {
   "cell_type": "code",
   "execution_count": 1,
   "metadata": {
    "scrolled": false
   },
   "outputs": [
    {
     "data": {
      "text/html": [
       "<iframe id=\"igraph\" scrolling=\"no\" style=\"border:none;\" seamless=\"seamless\" src=\"https://plot.ly/~blsymens/2.embed\" height=\"525px\" width=\"100%\"></iframe>"
      ],
      "text/plain": [
       "<plotly.tools.PlotlyDisplay object>"
      ]
     },
     "execution_count": 1,
     "metadata": {},
     "output_type": "execute_result"
    }
   ],
   "source": [
    "import plotly as py\n",
    "py.tools.set_credentials_file(username='blsymens', api_key='o9sUSvMGkqgbWNbfzbGm')\n",
    "import plotly.graph_objs as go\n",
    "import numpy as np\n",
    "import pandas as pd\n",
    "\n",
    "path = \"./Standards/BMD_scores_white_men.csv\"\n",
    "data = pd.read_csv(path)\n",
    "#print(data)\n",
    "\n",
    "upper_bound = go.Scatter(\n",
    "    name='98 percentile',\n",
    "    x=data['Age'],\n",
    "    y=data['mean']+2*data['stdev'],\n",
    "    mode='lines',\n",
    "    marker=dict(color=\"#444\"),\n",
    "    line=dict(width=0),\n",
    "    fillcolor='rgba(68, 68, 68, 0.1)',\n",
    "    fill='tonexty')\n",
    "\n",
    "high_bound = go.Scatter(\n",
    "    name='84 percentile',\n",
    "    x=data['Age'],\n",
    "    y=data['mean']+1*data['stdev'],\n",
    "    mode='lines',\n",
    "    marker=dict(color=\"#444\"),\n",
    "    line=dict(width=0),\n",
    "    fillcolor='rgba(50, 50, 50, 0.15)',\n",
    "    fill='tonexty')\n",
    "\n",
    "average = go.Scatter(\n",
    "    name='Average',\n",
    "    x=data['Age'],\n",
    "    y=data['mean'],\n",
    "    mode='lines',\n",
    "    line=dict(color='rgb(0, 0, 0)'),\n",
    "    fillcolor='rgba(50, 50, 50, 0.15)',\n",
    "    fill='tonexty')\n",
    "\n",
    "measurement = go.Scatter(\n",
    "    name='Measurement',\n",
    "    x=[25],\n",
    "    y=[(1.381+1.355)/2],\n",
    "    mode='markers',\n",
    "    marker = dict(color = ('rgb(205, 12, 24)'),size = 8))\n",
    "\n",
    "low_bound = go.Scatter(\n",
    "    name='16 percentile',\n",
    "    x=data['Age'],\n",
    "    y=data['mean']-1*data['stdev'],\n",
    "    mode='lines',\n",
    "    marker=dict(color=\"#444\"),\n",
    "    line=dict(width=0),\n",
    "    fillcolor='rgba(68, 68, 68, 0.1)',\n",
    "    fill='tonexty')\n",
    "\n",
    "lower_bound = go.Scatter(\n",
    "    name='2 percentile',\n",
    "    x=data['Age'],\n",
    "    y=data['mean']-2*data['stdev'],\n",
    "    marker=dict(color=\"#444\"),\n",
    "    line=dict(width=0),\n",
    "    mode='lines')\n",
    "\n",
    "# Trace order can be important\n",
    "# with continuous error bars\n",
    "data = [lower_bound, low_bound, average, high_bound, upper_bound, measurement]\n",
    "\n",
    "layout = go.Layout(\n",
    "    yaxis=dict(title='BMD (g/cmˆ2)'),\n",
    "    xaxis=dict(title='Age (yrs)'),\n",
    "    title='Standard BMD scores',\n",
    "    showlegend = False)\n",
    "\n",
    "fig = go.Figure(data=data, layout=layout)\n",
    "py.plotly.iplot(fig, filename='Standard-BMD-scores')"
   ]
  },
  {
   "cell_type": "code",
   "execution_count": null,
   "metadata": {},
   "outputs": [],
   "source": []
  }
 ],
 "metadata": {
  "kernelspec": {
   "display_name": "Python 3",
   "language": "python",
   "name": "python3"
  },
  "language_info": {
   "codemirror_mode": {
    "name": "ipython",
    "version": 3
   },
   "file_extension": ".py",
   "mimetype": "text/x-python",
   "name": "python",
   "nbconvert_exporter": "python",
   "pygments_lexer": "ipython3",
   "version": "3.6.4"
  }
 },
 "nbformat": 4,
 "nbformat_minor": 2
}
